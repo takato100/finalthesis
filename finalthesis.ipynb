{
  "nbformat": 4,
  "nbformat_minor": 0,
  "metadata": {
    "colab": {
      "provenance": [],
      "toc_visible": true,
      "authorship_tag": "ABX9TyPt2dlaSjAots71SuJ0CQ+/",
      "include_colab_link": true
    },
    "kernelspec": {
      "name": "python3",
      "display_name": "Python 3"
    },
    "language_info": {
      "name": "python"
    }
  },
  "cells": [
    {
      "cell_type": "markdown",
      "metadata": {
        "id": "view-in-github",
        "colab_type": "text"
      },
      "source": [
        "<a href=\"https://colab.research.google.com/github/takato100/finalthesis/blob/main/finalthesis.ipynb\" target=\"_parent\"><img src=\"https://colab.research.google.com/assets/colab-badge.svg\" alt=\"Open In Colab\"/></a>"
      ]
    },
    {
      "cell_type": "code",
      "source": [
        "import numpy as np\n",
        "import random\n",
        "import uuid\n",
        "from dataclasses import dataclass\n",
        "from collections import deque\n",
        "import matplotlib.pyplot as plt"
      ],
      "metadata": {
        "id": "0G7jsSpWJ6Nn"
      },
      "execution_count": null,
      "outputs": []
    },
    {
      "cell_type": "code",
      "source": [
        "@dataclass\n",
        "class Packet:\n",
        "    id: uuid.UUID\n",
        "    user_id: int\n",
        "    life: int"
      ],
      "metadata": {
        "id": "Juw9JHtTJ9no"
      },
      "execution_count": null,
      "outputs": []
    },
    {
      "cell_type": "code",
      "source": [
        "# 正規分布に従う乱数生成\n",
        "def generate_normal_distribution_data(mean, std_dev, size):\n",
        "    while True:\n",
        "      data = np.random.normal(mean, std_dev, size)\n",
        "      if np.all(data >= 0):\n",
        "        break\n",
        "    return data\n",
        "\n",
        "# 指定された範囲でランダムな数を生成\n",
        "def generate_random_numbers(start, end, count):\n",
        "    random_numbers = np.random.randint(start, end + 1, count)\n",
        "    return random_numbers\n"
      ],
      "metadata": {
        "id": "Ijgj-UvtKBQa"
      },
      "execution_count": null,
      "outputs": []
    },
    {
      "cell_type": "code",
      "source": [
        "\n",
        "def generator(user_ids, ave_user, std_user, ave_packets, std_packets, packet_life):\n",
        "    \"\"\"\n",
        "    packetを作ってqueueに入れるという一回の行為とする．\n",
        "\n",
        "    input\n",
        "        user_ids(list) 誰のパケットを生成するか．そのリスト\n",
        "        ave_user (int) 平均何人が生成するか\n",
        "        ave_packets 選ばれしUEが平均何個のpacketを生成するか\n",
        "        packet_life 生成するpacketのlife\n",
        "\n",
        "    output\n",
        "        生成したpacket_list.中身はシャッフルされているのでそのまま元queueに結合できる．\n",
        "\n",
        "    \"\"\"\n",
        "    # userを選ぶ\n",
        "    users_size = int(generate_normal_distribution_data(ave_user, std_user, 1))\n",
        "    # print(users_size, \"users will generate packets\")\n",
        "    users = random.sample(user_ids, users_size)\n",
        "    # 各userに対して特定個数のpacket生成\n",
        "    packets = deque()\n",
        "    for user_id in users:\n",
        "        packet_size = int(generate_normal_distribution_data(ave_packets, std_packets, 1))\n",
        "        #print(user_id, \"will generate\", packet_size, \"packets\")\n",
        "        for i in range(packet_size):\n",
        "            packet = Packet(id=uuid.uuid4(), user_id=user_id, life=int(packet_life))\n",
        "            packets.append(packet)\n",
        "\n",
        "    random.shuffle(packets)\n",
        "    print(len(packets), \"packets generated\")\n",
        "    return packets\n",
        "\n"
      ],
      "metadata": {
        "id": "HZ7E5LCmCpud"
      },
      "execution_count": null,
      "outputs": []
    },
    {
      "cell_type": "code",
      "source": [
        "@dataclass\n",
        "class User:\n",
        "  id: int\n",
        "  comp: bool\n",
        "  bs: int\n"
      ],
      "metadata": {
        "id": "CXlEFhZXLuwS"
      },
      "execution_count": null,
      "outputs": []
    },
    {
      "cell_type": "code",
      "source": [
        "# userを作る\n",
        "#service1: bs1(1,2,3,4(comp)) bs2(5(comp),6,7,8)\n",
        "#service2: bs1(9,10,11,12(comp)) bs2(13(comp),14,15,16)\n",
        "\n",
        "user1 = User(id=1, comp=0, bs=1)\n",
        "user2 = User(id=2, comp=0, bs=1)\n",
        "user3 = User(id=3, comp=0, bs=1)\n",
        "user4 = User(id=4, comp=1, bs=1)\n",
        "user5 = User(id=5, comp=1, bs=2)\n",
        "user6 = User(id=6, comp=0, bs=2)\n",
        "user7 = User(id=7, comp=0, bs=2)\n",
        "user8 = User(id=8, comp=0, bs=2)\n",
        "user9 = User(id=9, comp=0, bs=1)\n",
        "user10 = User(id=10, comp=0, bs=1)\n",
        "user11 = User(id=11, comp=0, bs=1)\n",
        "user12 = User(id=12, comp=1, bs=1)\n",
        "user13 = User(id=13, comp=1, bs=2)\n",
        "user14 = User(id=14, comp=0, bs=2)\n",
        "user15 = User(id=15, comp=0, bs=2)\n",
        "user16 = User(id=16, comp=0, bs=2)\n",
        "\n",
        "users = [user1, user2, user3, user4,\n",
        "         user5, user6, user7, user8,\n",
        "         user9, user10, user11, user12,\n",
        "         user13, user14, user15, user16,]"
      ],
      "metadata": {
        "id": "CV2jUN_Bmgo6"
      },
      "execution_count": null,
      "outputs": []
    },
    {
      "cell_type": "code",
      "source": [
        "def rows_of_zeros(matrix):\n",
        "  # comp可能な行\n",
        "  # 全てが0である行\n",
        "  zero_rows = np.all(matrix == 0, axis=1)\n",
        "  zero_rows_indices = np.where(zero_rows)[0]\n",
        "  return zero_rows_indices\n",
        "\n",
        "def is_zero_in_column(matrix, column_index):\n",
        "  # column_indexで指定したBSに空きがあるかどうか\n",
        "  return np.any(matrix[:, column_index] == 0)\n",
        "\n",
        "def rows_with_zeros_in_columns(matrix, column_index):\n",
        "  # 特定の列において要素が0であるような行番号のリスト\n",
        "  zero_rows_indices = np.where(matrix[:, column_index] == 0)[0]\n",
        "  return zero_rows_indices\n"
      ],
      "metadata": {
        "id": "y9Tu5yw7Sju8"
      },
      "execution_count": null,
      "outputs": []
    },
    {
      "cell_type": "code",
      "source": [
        "def scheduler(queue, max_bw1, max_bw2, grid):\n",
        "  \"\"\"\n",
        "    ここでは　1つのサービスのqueueのみが，与えられたbwを全て使っていいことにする．\n",
        "    life == 1のものをscheduleすることにする\n",
        "\n",
        "    利用できる上限量(max_bw)に達したらその時点で，そのBSではリソースを確保することはできない．\n",
        "\n",
        "\n",
        "    input\n",
        "      queue(deque): scheduleする必要があるqueue\n",
        "      max_bw1(int): bs1において利用可能なbw量\n",
        "      max_bw2(int): bs2において利用可能なbw量\n",
        "      grid(list): PRBgridを示すmatrix．空いてるgridが0\n",
        "  \"\"\"\n",
        "  global users\n",
        "  global monitor_dead_packets\n",
        "\n",
        "\n",
        "  # 残りbw\n",
        "  bw = [max_bw1, max_bw2]\n",
        "  # scheduleしたpacketでlifeが0以下だったもの\n",
        "  dead_packets = 0\n",
        "  # よびキュー\n",
        "  s_queue = deque()\n",
        "\n",
        "  while not (bw[0] == 0 and bw[1] == 0) and len(queue) > 0:\n",
        "    p = queue[0]\n",
        "    comp = [u.comp for u in users if u.id == p.user_id]\n",
        "    bs = [u.bs for u in users if u.id == p.user_id]\n",
        "\n",
        "    if p.life > 1:\n",
        "      #print(\"life > 1\")\n",
        "      break\n",
        "\n",
        "    # compなし\n",
        "    elif comp[0] == 0:\n",
        "      slots = rows_with_zeros_in_columns(grid, bs[0] - 1)\n",
        "      if bw[bs[0] - 1] == 0:\n",
        "        #print(\"!sched error! bs\", bs[0], \"reached to max bw\")\n",
        "        s_queue.append(queue.popleft())\n",
        "      elif  len(slots) == 0:\n",
        "        #print(\"!sched error! no available prb in bs\", bs[0])\n",
        "        s_queue.append(queue.popleft())\n",
        "      else:\n",
        "        p = queue.popleft()\n",
        "        # deadなら記録\n",
        "        if p.life <= 0:\n",
        "          dead_packets += 1\n",
        "        # grid更新\n",
        "        grid[slots[0], bs[0] - 1] = 1\n",
        "        # 残りbw更新\n",
        "        bw[bs[0] - 1] -= 1\n",
        "        \"\"\"\n",
        "        print(grid)\n",
        "        print(\"scheduled!(no comp)\")\n",
        "        print(\"left bw: \", bw[0], \",\", bw[1])\n",
        "        print(\"-----\")\n",
        "        \"\"\"\n",
        "\n",
        "    # compあり\n",
        "    elif comp[0] == 1:\n",
        "      slots = rows_of_zeros(grid)\n",
        "      if bw[0] == 0 or bw[1] == 0:\n",
        "        #print(\"!sched error! bs1 or bs2 reached bw limit (comp)\")\n",
        "        s_queue.append(queue.popleft())\n",
        "      elif len(slots) == 0:\n",
        "        #print(\"!sched error! no slots available for comp\")\n",
        "        s_queue.append(queue.popleft())\n",
        "      else:\n",
        "        p = queue.popleft()\n",
        "        # dead\n",
        "        if p.life <= 0:\n",
        "          dead_packets += 1\n",
        "        # grid更新\n",
        "        grid[slots[0], :] = 1\n",
        "        # bw更新\n",
        "        bw[0] -= 1\n",
        "        bw[1] -= 1\n",
        "        \"\"\"\n",
        "        print(grid)\n",
        "        print(\"scheduled!(comp)\")\n",
        "        print(\"left bw: \", bw[0], \",\", bw[1])\n",
        "        print(\"-----\")\n",
        "        \"\"\"\n",
        "\n",
        "  #print(\"-- TTI fin --\")\n",
        "  #print(\"dead = \", dead_packets)\n",
        "  monitor_dead_packets.append(dead_packets)\n",
        "  #print(\"s_queue = \", s_queue)\n",
        "  return s_queue\n"
      ],
      "metadata": {
        "id": "orrvfxAWKcxq"
      },
      "execution_count": null,
      "outputs": []
    },
    {
      "cell_type": "code",
      "source": [
        "# main\n",
        "monitor_dead_packets = []\n",
        "monitor_queue_len = []\n",
        "queue = deque()\n",
        "\n",
        "\n",
        "for i in range(1000):\n",
        "  monitor_queue_len.append(len(queue))\n",
        "  if len(queue) != 0:\n",
        "    spare = scheduler(queue, 8, 5, np.zeros((10, 2)))\n",
        "    # 予備キューを先頭に追加\n",
        "    for i in reversed(spare):\n",
        "      queue.appendleft(i)\n",
        "    # decrease life\n",
        "    for p in queue:\n",
        "      p.life -= 1\n",
        "  # packet add\n",
        "  for p in generator([1,2,3,4,5,6,7,8,9,10,11,12,13,14,15,16], ave_user = 3, std_user = 0.5, ave_packets = 4, std_packets = 1, packet_life = 1):\n",
        "    queue.append(p)\n"
      ],
      "metadata": {
        "id": "NydR3nojshhe"
      },
      "execution_count": null,
      "outputs": []
    },
    {
      "cell_type": "code",
      "source": [
        "x = []\n",
        "for i in range(len(monitor_queue_len)):\n",
        "  x.append(i)\n",
        "\n",
        "plt.bar(x, monitor_queue_len)\n",
        "plt.show()"
      ],
      "metadata": {
        "colab": {
          "base_uri": "https://localhost:8080/",
          "height": 430
        },
        "id": "63SuWRv0GvEV",
        "outputId": "74ec8c28-9f7b-4833-f5bf-52d9a7d40399"
      },
      "execution_count": null,
      "outputs": [
        {
          "output_type": "display_data",
          "data": {
            "text/plain": [
              "<Figure size 640x480 with 1 Axes>"
            ],
            "image/png": "[encoded data removed]"
          },
          "metadata": {}
        }
      ]
    }
  ]
}